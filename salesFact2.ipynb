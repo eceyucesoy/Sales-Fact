{
 "cells": [
  {
   "cell_type": "code",
   "execution_count": null,
   "metadata": {},
   "outputs": [],
   "source": [
    "import pandas as pd\n",
    "from IPython.display import display\n",
    "from IPython.core.interactiveshell import InteractiveShell\n",
    "InteractiveShell.ast_node_interactivity = 'all'\n",
    "data = pd.read_csv('salesFact.csv')"
   ]
  },
  {
   "cell_type": "code",
   "execution_count": null,
   "metadata": {},
   "outputs": [],
   "source": [
    "continousClusteringData = data[['TotalDrinkSales','TotalFoodSales','TotalNonConSales']]\n",
    "display(continousClusteringData)"
   ]
  },
  {
   "cell_type": "code",
   "execution_count": null,
   "metadata": {},
   "outputs": [],
   "source": [
    "from sklearn.preprocessing import StandardScaler\n",
    "continous_scaled = StandardScaler().fit_transform(continousClusteringData)\n",
    "display(continous_scaled)\n",
    "\n",
    "from sklearn.cluster import KMeans\n",
    "model = KMeans(n_clusters=3, max_iter=50)\n",
    "model.fit(continous_scaled)\n",
    "print(model.labels_)"
   ]
  },
  {
   "cell_type": "code",
   "execution_count": null,
   "metadata": {},
   "outputs": [],
   "source": [
    "continousClusteringData['label'] = model.labels_\n",
    "# cluster sizes\n",
    "print(continousClusteringData['label'].value_counts())\n",
    "\n",
    "display(continousClusteringData)\n",
    "\n",
    "print(f\"Cluster centroid values:\\n{model.cluster_centers_}\")\n",
    "\n",
    "print(continousClusteringData['label'].value_counts())"
   ]
  },
  {
   "cell_type": "code",
   "execution_count": null,
   "metadata": {},
   "outputs": [],
   "source": [
    "clusterCenters = pd.DataFrame(data = model.cluster_centers_, columns = data[['TotalDrinkSales','TotalFoodSales','TotalNonConSales']].columns)\n",
    "display(clusterCenters)"
   ]
  },
  {
   "cell_type": "code",
   "execution_count": null,
   "metadata": {},
   "outputs": [],
   "source": [
    "continousClusteringData.boxplot(column=['TotalDrinkSales', 'TotalFoodSales'], by=['label'])"
   ]
  },
  {
   "cell_type": "code",
   "execution_count": null,
   "metadata": {},
   "outputs": [],
   "source": [
    "continousClusteringData.plot.scatter(x='TotalDrinkSales', y='label')\n",
    "continousClusteringData.plot.scatter(x='TotalFoodSales', y='label')\n",
    "continousClusteringData.plot.scatter(x='TotalNonConSales', y='label')"
   ]
  },
  {
   "cell_type": "code",
   "execution_count": null,
   "metadata": {},
   "outputs": [],
   "source": [
    "display(pd.crosstab(data['gender'], continousClusteringData['label'], rownames=['gender'], colnames=['label']))\n",
    "display(pd.crosstab(data['yearly_income'], continousClusteringData['label'], rownames=['yearly_income'], colnames=['label']))\n",
    "display(pd.crosstab(data['marital_status'], continousClusteringData['label'], rownames=['marital_status'], colnames=['label']))\n",
    "display(pd.crosstab(data['member_card'], continousClusteringData['label'], rownames=['member_card'], colnames=['label']))"
   ]
  }
 ],
 "metadata": {
  "language_info": {
   "name": "python"
  },
  "orig_nbformat": 4
 },
 "nbformat": 4,
 "nbformat_minor": 2
}
