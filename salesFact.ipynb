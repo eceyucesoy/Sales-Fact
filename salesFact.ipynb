{
 "cells": [
  {
   "cell_type": "code",
   "execution_count": 1,
   "metadata": {},
   "outputs": [],
   "source": [
    "import pandas as pd\n",
    "from IPython.display import display\n",
    "from IPython.core.interactiveshell import InteractiveShell\n",
    "InteractiveShell.ast_node_interactivity = 'all'\n",
    "data = pd.read_csv('salesFact.csv')\n"
   ]
  },
  {
   "cell_type": "code",
   "execution_count": null,
   "metadata": {},
   "outputs": [],
   "source": [
    "print(data['yearly_income'].value_counts())\n",
    "print(data['yearly_income'].value_counts().plot.pie())"
   ]
  },
  {
   "cell_type": "code",
   "execution_count": null,
   "metadata": {},
   "outputs": [],
   "source": [
    "print(data['gender'].value_counts())\n",
    "print(data['gender'].value_counts().plot.pie())"
   ]
  },
  {
   "cell_type": "code",
   "execution_count": null,
   "metadata": {},
   "outputs": [],
   "source": [
    "print(data['marital_status'].value_counts())\n",
    "print(data['marital_status'].value_counts().plot.pie())"
   ]
  },
  {
   "cell_type": "code",
   "execution_count": null,
   "metadata": {},
   "outputs": [],
   "source": [
    "print(data['total_children'].value_counts())\n",
    "print(data['total_children'].value_counts().plot.pie())"
   ]
  },
  {
   "cell_type": "code",
   "execution_count": null,
   "metadata": {},
   "outputs": [],
   "source": [
    "print(data['education'].value_counts())\n",
    "print(data['education'].value_counts().plot.pie())"
   ]
  },
  {
   "cell_type": "code",
   "execution_count": null,
   "metadata": {},
   "outputs": [],
   "source": [
    "print(data['member_card'].value_counts())\n",
    "print(data['member_card'].value_counts().plot.pie())"
   ]
  },
  {
   "cell_type": "code",
   "execution_count": null,
   "metadata": {},
   "outputs": [],
   "source": [
    "data['TotalSales'] = data['TotalDrinkSales'] + data['TotalFoodSales'] + data['TotalNonConSales']\n",
    "\n",
    "data['TotalSales'].describe()\n",
    "data['TotalDrinkSales'].describe()\n",
    "data['TotalFoodSales'].describe()\n",
    "data['TotalNonConSales'].describe()"
   ]
  },
  {
   "cell_type": "code",
   "execution_count": null,
   "metadata": {},
   "outputs": [],
   "source": [
    "data.groupby(['gender', 'member_card']).mean()['TotalSales']\n",
    "data.groupby(['marital_status', 'yearly_income']).mean()['TotalFoodSales']\n",
    "data.groupby(['gender','education']).mean()['TotalFoodSales']"
   ]
  },
  {
   "cell_type": "code",
   "execution_count": null,
   "metadata": {},
   "outputs": [],
   "source": [
    "data.boxplot(column=['TotalFoodSales', 'TotalDrinkSales', 'TotalNonConSales'])"
   ]
  },
  {
   "cell_type": "code",
   "execution_count": null,
   "metadata": {},
   "outputs": [],
   "source": [
    "data.boxplot(column=['TotalSales'], by=['gender'], figsize=(6,6))\n",
    "data.boxplot(column=['TotalSales'], by=['education'], figsize=(10,10))"
   ]
  },
  {
   "cell_type": "code",
   "execution_count": null,
   "metadata": {},
   "outputs": [],
   "source": [
    "pd.crosstab(data['member_card'], data['marital_status'], rownames=['member_card'], colnames=['marital_status'])\n",
    "pd.crosstab(data['member_card'], data['gender'], rownames=['member_card'], colnames=['gender'])\n",
    "pd.crosstab(data['member_card'], data['yearly_income'], rownames=['member_card'], colnames=['yearly_income'])\n"
   ]
  }
 ],
 "metadata": {
  "kernelspec": {
   "display_name": "Python 3",
   "language": "python",
   "name": "python3"
  },
  "language_info": {
   "codemirror_mode": {
    "name": "ipython",
    "version": 3
   },
   "file_extension": ".py",
   "mimetype": "text/x-python",
   "name": "python",
   "nbconvert_exporter": "python",
   "pygments_lexer": "ipython3",
   "version": "3.11.4"
  },
  "orig_nbformat": 4
 },
 "nbformat": 4,
 "nbformat_minor": 2
}
